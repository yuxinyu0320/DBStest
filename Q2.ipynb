{
 "cells": [
  {
   "cell_type": "code",
   "execution_count": 4,
   "metadata": {},
   "outputs": [],
   "source": [
    "def pairs(a,k):\n",
    " # a is the list of numbers and k is the difference value\n",
    "# put all elements of a into a hash table/dictionary\n",
    "    vals = {x: 1 for x in a}\n",
    "    answer = 0\n",
    "    for c in a:\n",
    "        try:\n",
    "            if vals[c - k]:\n",
    "                answer += 1\n",
    "        except:\n",
    "            continue\n",
    "    return answer"
   ]
  }
 ],
 "metadata": {
  "kernelspec": {
   "display_name": "Python 3",
   "language": "python",
   "name": "python3"
  },
  "language_info": {
   "codemirror_mode": {
    "name": "ipython",
    "version": 3
   },
   "file_extension": ".py",
   "mimetype": "text/x-python",
   "name": "python",
   "nbconvert_exporter": "python",
   "pygments_lexer": "ipython3",
   "version": "3.7.3"
  }
 },
 "nbformat": 4,
 "nbformat_minor": 4
}
