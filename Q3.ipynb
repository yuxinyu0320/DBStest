{
 "cells": [
  {
   "cell_type": "code",
   "execution_count": 39,
   "metadata": {},
   "outputs": [],
   "source": [
    "import pandas as pd\n"
   ]
  },
  {
   "cell_type": "code",
   "execution_count": 123,
   "metadata": {},
   "outputs": [],
   "source": [
    "def get_samelist(data):\n",
    "\n",
    "    cols = ['name', 'phone', 'email']\n",
    "    df = pd.DataFrame(data, columns=cols)\n",
    "    same_list = []\n",
    "    for col in cols:\n",
    "        gp = df.groupby(col)\n",
    "        for val in gp.groups.values():\n",
    "            if len(val) > 1:\n",
    "                if same_list:\n",
    "                    for sm in same_list:\n",
    "                        if not([True if v in sm else False for v in val]):\n",
    "                            same_list.append(val.tolist())\n",
    "                        else:\n",
    "                            dl.extend(val.tolist())\n",
    "                else:\n",
    "                    same_list.append(val.tolist())\n",
    "    same_list = list(map(list, map(set, same_list)))\n",
    "    temp = [j for i in same_list for j in i]\n",
    "    single_list = [[i] for i in (set(df.index.tolist()) - set(temp))]\n",
    "    return same_list + single_list\n",
    "\n",
    "\n"
   ]
  },
  {
   "cell_type": "code",
   "execution_count": 124,
   "metadata": {},
   "outputs": [
    {
     "name": "stdout",
     "output_type": "stream",
     "text": [
      "[[0, 1, 2], [3]]\n"
     ]
    }
   ],
   "source": [
    "\n",
    "data = [\n",
    "    (\"username1\", \"phone_number1\", \"email1\"),\n",
    "    (\"usernameX\", \"phone_number1\", \"email1Z\"),\n",
    "    (\"usernameZ\", \"phone_numberZ\", \"email1\"),\n",
    "    (\"usernameY\", \"phone_numberY\", \"email1X\"),\n",
    "]\n",
    "print(get_sublist(data))"
   ]
  },
  {
   "cell_type": "code",
   "execution_count": null,
   "metadata": {},
   "outputs": [],
   "source": []
  }
 ],
 "metadata": {
  "kernelspec": {
   "display_name": "Python 3",
   "language": "python",
   "name": "python3"
  },
  "language_info": {
   "codemirror_mode": {
    "name": "ipython",
    "version": 3
   },
   "file_extension": ".py",
   "mimetype": "text/x-python",
   "name": "python",
   "nbconvert_exporter": "python",
   "pygments_lexer": "ipython3",
   "version": "3.7.3"
  }
 },
 "nbformat": 4,
 "nbformat_minor": 4
}
